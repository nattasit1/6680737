{
  "cells": [
    {
      "cell_type": "markdown",
      "metadata": {
        "id": "view-in-github",
        "colab_type": "text"
      },
      "source": [
        "<a href=\"https://colab.research.google.com/github/nattasit1/6680737/blob/main/Homework1.ipynb\" target=\"_parent\"><img src=\"https://colab.research.google.com/assets/colab-badge.svg\" alt=\"Open In Colab\"/></a>"
      ]
    },
    {
      "cell_type": "code",
      "execution_count": null,
      "metadata": {
        "collapsed": true,
        "id": "JQbAypsQQ6wS"
      },
      "outputs": [],
      "source": [
        "%matplotlib inline\n",
        "import math\n",
        "import numpy as np\n",
        "from matplotlib import pyplot as plt"
      ]
    },
    {
      "cell_type": "markdown",
      "metadata": {
        "id": "Ncz_f4YoQ6wT"
      },
      "source": [
        "# Homework"
      ]
    },
    {
      "cell_type": "markdown",
      "metadata": {
        "id": "rJURWN78Q6wU"
      },
      "source": [
        "## Problem 1\n",
        "\n",
        "Give me the solution to $x = e^{-x}$ that is $10^{-6}$ using bisection method.\n",
        "\n",
        "Pick the initial bound from the following and explain why you can't pick the other one.\n",
        "Bound A: (-1,0), Bound B (0,1)"
      ]
    },
    {
      "cell_type": "code",
      "execution_count": null,
      "metadata": {
        "collapsed": true,
        "colab": {
          "base_uri": "https://localhost:8080/"
        },
        "id": "NNHjkknzQ6wV",
        "outputId": "d60c9cc7-a68e-4087-bf70-cef73016ab93"
      },
      "outputs": [
        {
          "output_type": "stream",
          "name": "stdout",
          "text": [
            "Solution: x =  0.5671443939208984\n"
          ]
        }
      ],
      "source": [
        "def f(x):\n",
        "    return x - math.exp(-x)\n",
        "\n",
        "def bisect(f, a, b, tol):\n",
        "    if f(a) * f(b) > 0:\n",
        "        print(\"No root found.\")\n",
        "        return None\n",
        "    while (b-a)/2 > tol:\n",
        "        midpoint = (a + b) / 2\n",
        "        if f(midpoint) == 0:\n",
        "            return midpoint\n",
        "        elif f(a) * f(midpoint) < 0:\n",
        "            b = midpoint\n",
        "        else:\n",
        "            a = midpoint\n",
        "    return midpoint\n",
        "\n",
        "a = 0\n",
        "b = 1\n",
        "tolerance = 1e-6\n",
        "solution = bisect(f, a, b, tolerance)\n",
        "print(\"Solution: x = \", solution)\n"
      ]
    },
    {
      "cell_type": "markdown",
      "metadata": {
        "id": "fd8IRqzJQ6wV"
      },
      "source": [
        "## Problem 2\n",
        "Find all value of $x \\in [0,1]$ such that $f(x)=0$ for\n",
        "\n",
        "$f(x) = -0.000216747 + 0.0072868 x - 0.0977383 x^2 + 0.664685 x^3 -\n",
        " 2.40773 x^4 + 4.46766 x^5 - 3.7091 x^6 + x^7$\n",
        "\n",
        "Make sure your answers are at most $10^{-6}$ away from the real solution."
      ]
    },
    {
      "cell_type": "code",
      "execution_count": null,
      "metadata": {
        "collapsed": true,
        "colab": {
          "base_uri": "https://localhost:8080/"
        },
        "id": "gO2mw7-KQ6wV",
        "outputId": "93d8d9c7-8022-40ad-f3a1-858195b239b3"
      },
      "outputs": [
        {
          "output_type": "stream",
          "name": "stdout",
          "text": [
            "Roots in [0, 1]:\n",
            "0.12216614\n",
            "0.22002869\n",
            "0.33329895\n",
            "0.78540955\n"
          ]
        }
      ],
      "source": [
        "def f(x):\n",
        "    return (-0.000216747 + 0.0072868*x - 0.0977383*x**2 + 0.664685*x**3 -\n",
        "            2.40773*x**4 + 4.46766*x**5 - 3.7091*x**6 + x**7)\n",
        "\n",
        "def bisection_method(a, b, tol):\n",
        "    if f(a) * f(b) >= 0:\n",
        "        print(f\"No root in interval [{a}, {b}] or endpoints are not suitable.\")\n",
        "        return None\n",
        "\n",
        "    while (b - a) / 2.0 > tol:\n",
        "        midpoint = (a + b) / 2.0\n",
        "        if f(midpoint) == 0:\n",
        "            return midpoint\n",
        "        elif f(a) * f(midpoint) < 0:\n",
        "            b = midpoint\n",
        "        else:\n",
        "            a = midpoint\n",
        "\n",
        "    return (a + b) / 2.0\n",
        "\n",
        "def find_roots_in_interval(start, end, tol, step=0.01):\n",
        "    roots = []\n",
        "    a = start\n",
        "    while a < end:\n",
        "        b = a + step\n",
        "        if f(a) * f(b) < 0:\n",
        "            root = bisection_method(a, b, tol)\n",
        "            if root is not None:\n",
        "                roots.append(root)\n",
        "        a = b\n",
        "    return roots\n",
        "\n",
        "# Define the interval and tolerance\n",
        "start = 0\n",
        "end = 1\n",
        "tolerance = 1e-6\n",
        "\n",
        "# Find all roots in the interval [0, 1]\n",
        "roots = find_roots_in_interval(start, end, tolerance)\n",
        "\n",
        "# Print the roots\n",
        "print(\"Roots in [0, 1]:\")\n",
        "for root in roots:\n",
        "    print(f\"{root:.8f}\")"
      ]
    },
    {
      "cell_type": "markdown",
      "metadata": {
        "id": "XU_dAM25Q6wW"
      },
      "source": [
        "2.1) Find all the local minima and maxima of the above function. How do you figure out whether it is a local maximum or local minimum"
      ]
    },
    {
      "cell_type": "code",
      "execution_count": null,
      "metadata": {
        "collapsed": true,
        "colab": {
          "base_uri": "https://localhost:8080/"
        },
        "id": "vYRMeeuOQ6wW",
        "outputId": "bd675efc-0cd2-4151-cbb6-d3ef5832df3c"
      },
      "outputs": [
        {
          "output_type": "stream",
          "name": "stdout",
          "text": [
            "Local maximum at x = 0.19136780\n",
            "Local minimum at x = 0.29709167\n",
            "Local maximum at x = 0.68178040\n"
          ]
        }
      ],
      "source": [
        "def f(x):\n",
        "    return (-0.000216747 + 0.0072868*x - 0.0977383*x**2 + 0.664685*x**3 -\n",
        "            2.40773*x**4 + 4.46766*x**5 - 3.7091*x**6 + x**7)\n",
        "\n",
        "def f_prime(x):\n",
        "    return (0.0072868 - 0.1954766*x + 1.994055*x**2 - 9.63092*x**3 +\n",
        "            22.3383*x**4 - 22.2546*x**5 + 7*x**6)\n",
        "\n",
        "def f_double_prime(x):\n",
        "    return (-0.1954766 + 3.98811*x - 28.89276*x**2 + 89.3532*x**3 -\n",
        "            111.273*x**4 + 42*x**5)\n",
        "\n",
        "def bisection_method(a, b, tol, func):\n",
        "    if func(a) * func(b) >= 0:\n",
        "        return None\n",
        "\n",
        "    while (b - a) / 2.0 > tol:\n",
        "        midpoint = (a + b) / 2.0\n",
        "        if func(midpoint) == 0:\n",
        "            return midpoint\n",
        "        elif func(a) * func(midpoint) < 0:\n",
        "            b = midpoint\n",
        "        else:\n",
        "            a = midpoint\n",
        "\n",
        "    return (a + b) / 2.0\n",
        "\n",
        "def find_critical_points(start, end, tol=1e-6, step=0.01):\n",
        "    critical_points = []\n",
        "    a = start\n",
        "    while a < end:\n",
        "        b = a + step\n",
        "        if f_prime(a) * f_prime(b) < 0:\n",
        "            root = bisection_method(a, b, tol, f_prime)\n",
        "            if root is not None:\n",
        "                critical_points.append(root)\n",
        "        a = b\n",
        "    return critical_points\n",
        "\n",
        "# Define the interval and tolerance\n",
        "start = 0\n",
        "end = 1\n",
        "tolerance = 1e-6\n",
        "\n",
        "# Find all critical points in the interval [0, 1]\n",
        "critical_points = find_critical_points(start, end, tolerance)\n",
        "\n",
        "# Determine the nature of each critical point\n",
        "for point in critical_points:\n",
        "    second_derivative = f_double_prime(point)\n",
        "    if second_derivative > 0:\n",
        "        print(f\"Local minimum at x = {point:.8f}\")\n",
        "    elif second_derivative < 0:\n",
        "        print(f\"Local maximum at x = {point:.8f}\")\n",
        "    else:\n",
        "        print(f\"Test inconclusive at x = {point:.8f}\")"
      ]
    },
    {
      "cell_type": "markdown",
      "metadata": {
        "id": "2GtSHZlMQ6wW"
      },
      "source": [
        "2.2) What is the `global maximum` and `global minimum` of the function above within the range $x\\in[0,1]$"
      ]
    },
    {
      "cell_type": "code",
      "execution_count": null,
      "metadata": {
        "collapsed": true,
        "colab": {
          "base_uri": "https://localhost:8080/"
        },
        "id": "6_VDl3uDQ6wW",
        "outputId": "ffc34986-5291-49a3-cdfa-67d12d58a003"
      },
      "outputs": [
        {
          "output_type": "stream",
          "name": "stdout",
          "text": [
            "Global maximum: f(0.68178040) = 0.00382581\n",
            "Global minimum: f(1.00000000) = -0.07515325\n"
          ]
        }
      ],
      "source": [
        "def f(x):\n",
        "    return (-0.000216747 + 0.0072868*x - 0.0977383*x**2 + 0.664685*x**3 -\n",
        "            2.40773*x**4 + 4.46766*x**5 - 3.7091*x**6 + x**7)\n",
        "\n",
        "def f_prime(x):\n",
        "    return (0.0072868 - 0.1954766*x + 1.994055*x**2 - 9.63092*x**3 +\n",
        "            22.3383*x**4 - 22.2546*x**5 + 7*x**6)\n",
        "\n",
        "def find_critical_points(start, end, tol=1e-6, step=0.01):\n",
        "    critical_points = []\n",
        "    a = start\n",
        "    while a < end:\n",
        "        b = a + step\n",
        "        if f_prime(a) * f_prime(b) < 0:\n",
        "            root = bisection_method(a, b, tol, f_prime)\n",
        "            if root is not None:\n",
        "                critical_points.append(root)\n",
        "        a = b\n",
        "    return critical_points\n",
        "\n",
        "def bisection_method(a, b, tol, func):\n",
        "    if func(a) * func(b) >= 0:\n",
        "        return None\n",
        "\n",
        "    while (b - a) / 2.0 > tol:\n",
        "        midpoint = (a + b) / 2.0\n",
        "        if func(midpoint) == 0:\n",
        "            return midpoint\n",
        "        elif func(a) * func(midpoint) < 0:\n",
        "            b = midpoint\n",
        "        else:\n",
        "            a = midpoint\n",
        "\n",
        "    return (a + b) / 2.0\n",
        "\n",
        "\n",
        "start = 0\n",
        "end = 1\n",
        "tolerance = 1e-6\n",
        "\n",
        "critical_points = find_critical_points(start, end, tolerance)\n",
        "\n",
        "#Evaluate the function at critical points and endpoints\n",
        "evaluation_points = critical_points + [start, end]\n",
        "function_values = [f(point) for point in evaluation_points]\n",
        "\n",
        "global_max = max(function_values)\n",
        "global_min = min(function_values)\n",
        "\n",
        "# Find the corresponding x values\n",
        "max_x = evaluation_points[function_values.index(global_max)]\n",
        "min_x = evaluation_points[function_values.index(global_min)]\n",
        "\n",
        "print(f\"Global maximum: f({max_x:.8f}) = {global_max:.8f}\")\n",
        "print(f\"Global minimum: f({min_x:.8f}) = {global_min:.8f}\")"
      ]
    },
    {
      "cell_type": "markdown",
      "metadata": {
        "id": "DfRkC7BfQ6wX"
      },
      "source": [
        "## Problem 3\n",
        "In quantum physics, when finding a bound state for a finite potential well one would end up with the following equation(Yes E is negative):\n",
        "\n",
        "$$\n",
        "\\sqrt{\\frac{-E}{E+V_0}} = \\tan \\sqrt{2m \\frac{E+V_0}{\\hbar^2} a}\n",
        "$$\n",
        "\n",
        "The goal is to find all Energy($E$) that satisfy this equation.\n",
        "For simplicity, let\n",
        "- $V_0 = 1$\n",
        "- $m = 1$\n",
        "- $a = 1$\n",
        "- $\\hbar = 1$(Yes this is called natural unit)\n",
        "\n",
        "$$\n",
        "    \\sqrt{\\frac{-E}{E+1}} = \\tan \\sqrt{2(E+1)}\n",
        "$$\n",
        "\n",
        "Find the value for $E\\in (-1.0, 0)$ which satisfy the equation above). Make sure you accuracy is $<\\pm10^{-4}$\n"
      ]
    },
    {
      "cell_type": "code",
      "execution_count": null,
      "metadata": {
        "colab": {
          "base_uri": "https://localhost:8080/"
        },
        "id": "E6RI3Yp_Q6wX",
        "outputId": "55ad51fe-4646-4496-9bdb-2fce97abf6be"
      },
      "outputs": [
        {
          "output_type": "stream",
          "name": "stdout",
          "text": [
            "The energy E is approximately: -0.6038568115234375\n"
          ]
        }
      ],
      "source": [
        "def f(E):\n",
        "    return math.sqrt(-E / (E + 1)) - math.tan(math.sqrt(2 * (E + 1)))\n",
        "\n",
        "def bisection_method(f, a, b, tol):\n",
        "    while (b - a) / 2 > tol:\n",
        "        c = (a + b) / 2\n",
        "        if f(c) == 0:\n",
        "            return c\n",
        "        elif f(a) * f(c) < 0:\n",
        "            b = c\n",
        "        else:\n",
        "            a = c\n",
        "    return (a + b) / 2\n",
        "\n",
        "a = -0.999\n",
        "b = -0.001\n",
        "tolerance = 1e-4\n",
        "energy = bisection_method(f, a, b, tolerance)\n",
        "print(f\"The energy E is approximately: {energy}\")"
      ]
    },
    {
      "cell_type": "markdown",
      "metadata": {
        "id": "-sux-Bw1Q6wX"
      },
      "source": [
        "## Problem 4\n",
        "Ply quit programming and decide to be a Apple(fruit) shop owner. He bought 1000 apples everyday and try to sell it. The probability $k$ customer want Ply's apple(one each) is given by Poisson distribution:\n",
        "\n",
        "$$\n",
        "    P(k; \\lambda) = \\frac{\\lambda^k \\exp(-\\lambda)}{k!}\n",
        "$$\n",
        "\n",
        "Where $\\lambda$ is an parameter that represent the mean of number of people that want Ply's apple each day.\n",
        "\n",
        "After selling apples for 2000 days Ply found that his 1000 apples a day are sold out 600 days out of 2000 days.\n",
        "\n",
        "The goal for this problem is to figure out how he should change the number of apples he bought in a day.\n",
        "\n",
        "- In case you are curious https://en.wikipedia.org/wiki/Poisson_distribution. The true distribution of this selling apple process should be binomial distribution but with large enough customer and low enough probability of an individual buying an apple this is an excellent approximatoin."
      ]
    },
    {
      "cell_type": "markdown",
      "metadata": {
        "collapsed": true,
        "id": "CujZ7o_6Q6wX"
      },
      "source": [
        "4.1) You may find that if you try to code poisson distribution directly. It will not work with large number.\n",
        "$$\n",
        "    P(k; \\lambda) = \\frac{\\lambda^k \\exp(-\\lambda)}{k!}\n",
        "$$\n",
        "\n",
        "Explain briefly why python complains"
      ]
    },
    {
      "cell_type": "code",
      "execution_count": 11,
      "metadata": {
        "collapsed": true,
        "id": "b3c9gP6xQ6wX",
        "colab": {
          "base_uri": "https://localhost:8080/"
        },
        "outputId": "bc24679e-1c84-4be3-d085-33e2efebfd0f"
      },
      "outputs": [
        {
          "output_type": "stream",
          "name": "stdout",
          "text": [
            "0.01261461134870819\n"
          ]
        }
      ],
      "source": [
        "import math\n",
        "from scipy.stats import poisson\n",
        "def bad_poisson(lmd, k):\n",
        "    return pow(lmd,k)*math.exp(-lmd)/math.factorial(k)\n",
        "# bad_poisson(1000,1000) # uncomment to see it breaks\n",
        "\n",
        "def good_poisson(Ind, k):\n",
        "    return poisson.pmf(k, Ind)\n",
        "\n",
        "lambda_value = 1000\n",
        "k = 1000\n",
        "\n",
        "print(good_poisson(lambda_value, k))"
      ]
    },
    {
      "cell_type": "markdown",
      "metadata": {
        "id": "WlAF_GgKQ6wX"
      },
      "source": [
        "4.2) A very useful trick to avoid this problem is to take log and exponentiate. That is\n",
        "\n",
        "$$\n",
        "    P(k; \\lambda) = \\exp\\left( \\ln \\left[ \\frac{\\lambda^k \\exp(-\\lambda)}{k!} \\right] \\right)\n",
        "$$\n",
        "\n",
        "First, show that\n",
        "$$\n",
        "    \\ln(P(k; \\lambda)) = (\\ldots \\ln(\\ldots)-\\ldots)-\\ln(k!)\n",
        "$$\n",
        "\n"
      ]
    },
    {
      "cell_type": "code",
      "execution_count": 12,
      "metadata": {
        "collapsed": true,
        "id": "4nV578w_Q6wX",
        "colab": {
          "base_uri": "https://localhost:8080/"
        },
        "outputId": "0a79ddfe-c87a-4f75-e610-2879972db8e5"
      },
      "outputs": [
        {
          "output_type": "stream",
          "name": "stdout",
          "text": [
            "-4.372899506026442\n"
          ]
        }
      ],
      "source": [
        "def f(lmd, k):\n",
        "  return k*math.log(lmd)-lmd-math.log(math.factorial(k))\n",
        "print(f(1000,1000))\n"
      ]
    },
    {
      "cell_type": "markdown",
      "metadata": {
        "id": "ruRxckW0Q6wX"
      },
      "source": [
        "4.3) $\\ln(k!)$ shows up everywhere in math. So most math library have `lgamma` function to compute this very fast.\n",
        "For example,\n",
        "\n",
        "`math.lgamma(5) == math.log(math.factorial(4))`\n",
        "\n",
        "Your job for this problem is to implement $P(k; \\lambda)$ using log-exp trick.\n",
        "\n",
        "If you do it right, $P(k=1000; \\mu=1000) \\approx 0.0126146$"
      ]
    },
    {
      "cell_type": "code",
      "execution_count": 13,
      "metadata": {
        "collapsed": true,
        "id": "NtFoPOtRQ6wX",
        "colab": {
          "base_uri": "https://localhost:8080/"
        },
        "outputId": "83bf0732-d8bc-4f8e-e9ee-a1dca13b2870"
      },
      "outputs": [
        {
          "output_type": "stream",
          "name": "stdout",
          "text": [
            "P(k = 1000; λ = 1000) ≈ 0.0126146\n"
          ]
        }
      ],
      "source": [
        "import math\n",
        "\n",
        "def poisson_pmf(k, lambda_):\n",
        "    if k < 0 or lambda_ <= 0:\n",
        "        return 0.0\n",
        "    log_p = k * math.log(lambda_) - lambda_ - math.lgamma(k + 1)\n",
        "    return math.exp(log_p)\n",
        "\n",
        "# Example usage\n",
        "k = 1000\n",
        "lambda_ = 1000\n",
        "probability = poisson_pmf(k, lambda_)\n",
        "print(f\"P(k = {k}; λ = {lambda_}) ≈ {probability:.7f}\")"
      ]
    },
    {
      "cell_type": "markdown",
      "metadata": {
        "id": "lZLaaEj3Q6wX"
      },
      "source": [
        "4.4) Now here is the fun part. Suppose that $\\lambda = 987.6$(this is not true). Find the probability that Ply will sell all his 1000 apples. (Remember if 2000 people want Ply's apple, he his apple will also be sold out).\n",
        "\n",
        "And No, summing up to infinity is not practical."
      ]
    },
    {
      "cell_type": "code",
      "execution_count": 14,
      "metadata": {
        "id": "kJMezMlMQ6wY",
        "colab": {
          "base_uri": "https://localhost:8080/"
        },
        "outputId": "aaf32c20-5a90-425a-e092-23a021462e03"
      },
      "outputs": [
        {
          "output_type": "stream",
          "name": "stdout",
          "text": [
            "Probability of selling all 1000 apples: 0.3507847\n"
          ]
        }
      ],
      "source": [
        "import math\n",
        "\n",
        "def poisson_pmf(k, lambda_):\n",
        "    if k < 0 or lambda_ <= 0:\n",
        "        return 0.0\n",
        "    log_p = k * math.log(lambda_) - lambda_ - math.lgamma(k + 1)\n",
        "    return math.exp(log_p)\n",
        "\n",
        "def poisson_cdf(k_max, lambda_):\n",
        "    return sum(poisson_pmf(k, lambda_) for k in range(k_max + 1))\n",
        "\n",
        "# Parameters\n",
        "lambda_ = 987.6\n",
        "k_threshold = 1000\n",
        "\n",
        "# Calculate the probability of selling all 1000 apples\n",
        "probability_sell_out = 1 - poisson_cdf(k_threshold - 1, lambda_)\n",
        "\n",
        "print(f\"Probability of selling all 1000 apples: {probability_sell_out:.7f}\")"
      ]
    },
    {
      "cell_type": "markdown",
      "metadata": {
        "id": "3mwpOOZyQ6wY"
      },
      "source": [
        "4.5) Recall the information that\n",
        "\n",
        "After selling apples for 2000 days Ply found that his 1000 apples a day are sold out 600 days out of 2000 days.\n",
        "\n",
        "Find the value for $\\lambda$ to a decent accuracy($<\\pm 0.1$)"
      ]
    },
    {
      "cell_type": "code",
      "execution_count": 15,
      "metadata": {
        "collapsed": true,
        "id": "Vhjbs9skQ6wY",
        "colab": {
          "base_uri": "https://localhost:8080/"
        },
        "outputId": "8cb063e8-5187-487d-f7aa-c5094fc2c510"
      },
      "outputs": [
        {
          "output_type": "stream",
          "name": "stdout",
          "text": [
            "Optimal lambda: 983.1784\n"
          ]
        }
      ],
      "source": [
        "import math\n",
        "from scipy.optimize import minimize_scalar\n",
        "\n",
        "def poisson_pmf(k, lambda_):\n",
        "    if k < 0 or lambda_ <= 0:\n",
        "        return 0.0\n",
        "    log_p = k * math.log(lambda_) - lambda_ - math.lgamma(k + 1)\n",
        "    return math.exp(log_p)\n",
        "\n",
        "def poisson_cdf(k_max, lambda_):\n",
        "    return sum(poisson_pmf(k, lambda_) for k in range(k_max + 1))\n",
        "\n",
        "def objective_function(lambda_):\n",
        "    # Compute the probability of selling out\n",
        "    prob_sell_out = 1 - poisson_cdf(999, lambda_)\n",
        "    # We want this probability to be close to 0.3\n",
        "    return abs(prob_sell_out - 0.3)\n",
        "\n",
        "# Find the value of lambda that minimizes the objective function\n",
        "result = minimize_scalar(objective_function, bounds=(900, 1100), method='bounded')\n",
        "\n",
        "# The optimal lambda value\n",
        "lambda_opt = result.x\n",
        "print(f\"Optimal lambda: {lambda_opt:.4f}\")"
      ]
    },
    {
      "cell_type": "markdown",
      "metadata": {
        "id": "5cNw_acbQ6wY"
      },
      "source": [
        "4.6) Using $\\lambda$ you found in 4.5).\n",
        "\n",
        "Ply bounght apple for 20 Baht each and he sell it for 50 Baht each. Which means that for each apple he sells he make a profit of 30 baht. But, at the end of each day Ply has to trash all unsold Apples(taking a loss of 20 Baht each).\n",
        "\n",
        "If Ply bought 1000 apples a day, what would be his expected profit(remember expected value from discrete math/stat/quantum?)."
      ]
    },
    {
      "cell_type": "code",
      "execution_count": 16,
      "metadata": {
        "collapsed": true,
        "id": "_Vjx9D_6Q6wY",
        "colab": {
          "base_uri": "https://localhost:8080/"
        },
        "outputId": "79712f1a-bc87-4438-d02b-f151dfc181ae"
      },
      "outputs": [
        {
          "output_type": "stream",
          "name": "stdout",
          "text": [
            "Expected Profit: 29380.00 Baht\n"
          ]
        }
      ],
      "source": [
        "# Assuming lambda_opt is the value found in problem 4.5\n",
        "lambda_opt = 987.6  # Replace with the actual value found\n",
        "\n",
        "# Constants\n",
        "apples_bought = 1000\n",
        "profit_per_sold = 30\n",
        "loss_per_unsold = 20\n",
        "\n",
        "# Expected number of apples sold\n",
        "expected_sold = lambda_opt\n",
        "\n",
        "# Expected number of apples unsold\n",
        "expected_unsold = apples_bought - expected_sold\n",
        "\n",
        "# Expected profit\n",
        "expected_profit = (expected_sold * profit_per_sold) - (expected_unsold * loss_per_unsold)\n",
        "\n",
        "print(f\"Expected Profit: {expected_profit:.2f} Baht\")"
      ]
    },
    {
      "cell_type": "markdown",
      "metadata": {
        "id": "UlzBb15FQ6wY"
      },
      "source": [
        "4.7) Using $\\lambda$ you found in 4.5) Find the number of apple Ply should buy in a day to maximize his expected profit."
      ]
    },
    {
      "cell_type": "code",
      "execution_count": 17,
      "metadata": {
        "collapsed": true,
        "id": "6eYW_K6vQ6wY",
        "colab": {
          "base_uri": "https://localhost:8080/"
        },
        "outputId": "a06fa928-6c71-4214-cb64-7e233374ccfd"
      },
      "outputs": [
        {
          "output_type": "stream",
          "name": "stdout",
          "text": [
            "Optimal number of apples to buy: 988\n",
            "Maximum expected profit: 29620.00 Baht\n"
          ]
        }
      ],
      "source": [
        "import math\n",
        "from scipy.stats import poisson\n",
        "\n",
        "# Assuming lambda_opt is the value found in problem 4.5\n",
        "lambda_opt = 987.6  # Replace with the actual value found\n",
        "\n",
        "# Constants\n",
        "profit_per_sold = 30\n",
        "loss_per_unsold = 20\n",
        "\n",
        "def expected_profit(n, lambda_):\n",
        "    # Expected number of apples sold is the minimum of n and lambda\n",
        "    expected_sold = min(n, lambda_)\n",
        "    # Expected number of apples unsold is max(0, n - lambda)\n",
        "    expected_unsold = max(0, n - lambda_)\n",
        "    # Calculate expected profit\n",
        "    return (expected_sold * profit_per_sold) - (expected_unsold * loss_per_unsold)\n",
        "\n",
        "# Search for the optimal n\n",
        "max_profit = -float('inf')\n",
        "optimal_n = 0\n",
        "\n",
        "# Search range around lambda_opt\n",
        "for n in range(int(lambda_opt - 100), int(lambda_opt + 100)):\n",
        "    profit = expected_profit(n, lambda_opt)\n",
        "    if profit > max_profit:\n",
        "        max_profit = profit\n",
        "        optimal_n = n\n",
        "\n",
        "print(f\"Optimal number of apples to buy: {optimal_n}\")\n",
        "print(f\"Maximum expected profit: {max_profit:.2f} Baht\")"
      ]
    },
    {
      "cell_type": "markdown",
      "metadata": {
        "id": "n9poLk0DQ6wY"
      },
      "source": [
        "## Problem 5\n",
        "\n",
        "Full Width at Half Maximum(FWHM). Distribution width is a very important quantity. It tells you how wide a the distribution is. One way to do that is to use a quantity called full-width half max.\n",
        "\n",
        "This is the width of the distribution at half maximum.\n",
        "\n",
        "For example for distribution shown below the maximum is at x=0.0 and y=1.0\n",
        "\n",
        "The maximum of this distribution is 1.0. So we are interested in the width of the distribution when the value of the distribution is 1.0/2=0.5\n",
        "\n",
        "The width of the distribution is shown in black line. In this case it's about 2.35"
      ]
    },
    {
      "cell_type": "code",
      "execution_count": 18,
      "metadata": {
        "id": "-1X4sCq8Q6wY",
        "outputId": "12391970-f15d-4fa9-e980-2e20d9e24239",
        "colab": {
          "base_uri": "https://localhost:8080/",
          "height": 448
        }
      },
      "outputs": [
        {
          "output_type": "execute_result",
          "data": {
            "text/plain": [
              "Text(0, 0.3, 'FWHM')"
            ]
          },
          "metadata": {},
          "execution_count": 18
        },
        {
          "output_type": "display_data",
          "data": {
            "text/plain": [
              "<Figure size 640x480 with 1 Axes>"
            ],
            "image/png": "[encoded data removed]"
          },
          "metadata": {}
        }
      ],
      "source": [
        "import math\n",
        "def demo(x):\n",
        "    return math.exp(-x**2/2.0)\n",
        "x = np.linspace(-3,3)\n",
        "y = [demo(xx) for xx in x]\n",
        "plt.plot(x,y)\n",
        "plt.axhline(0.5, color='red')\n",
        "\n",
        "plt.axvline(2.355/2,color='red',linestyle='dashed')\n",
        "plt.axvline(-2.355/2,color='red',linestyle='dashed')\n",
        "\n",
        "plt.grid()\n",
        "plt.annotate(\n",
        "    '', xy=(-2.355/2, 0.4), xycoords='data',\n",
        "    xytext=(2.355/2, 0.4), textcoords='data',\n",
        "    arrowprops={'arrowstyle': '<->'})\n",
        "plt.text(0,0.3,'FWHM',horizontalalignment ='center')"
      ]
    },
    {
      "cell_type": "markdown",
      "metadata": {
        "id": "shcFAWYAQ6wY"
      },
      "source": [
        "5.1)Find FWHM of the following function. Make sure the bound on error of the FWHM is less than $10^{-4}$."
      ]
    },
    {
      "cell_type": "code",
      "execution_count": 25,
      "metadata": {
        "id": "Mtn6aXeWQ6wZ",
        "outputId": "be175554-1dec-4a10-bd6d-fd5ea5ea2f43",
        "colab": {
          "base_uri": "https://localhost:8080/",
          "height": 448
        }
      },
      "outputs": [
        {
          "output_type": "stream",
          "name": "stdout",
          "text": [
            "FWHM: 6.2\n"
          ]
        },
        {
          "output_type": "display_data",
          "data": {
            "text/plain": [
              "<Figure size 640x480 with 1 Axes>"
            ],
            "image/png": "[encoded data removed]"
          },
          "metadata": {}
        }
      ],
      "source": [
        "import numpy as np\n",
        "import matplotlib.pyplot as plt\n",
        "import math\n",
        "from scipy.optimize import fsolve\n",
        "\n",
        "def f(x, gamma=3.1):\n",
        "    mu = 2.345\n",
        "    return gamma / ((x - mu)**2 + gamma**2)\n",
        "\n",
        "# Find the maximum value\n",
        "gamma = 3.1\n",
        "mu = 2.345\n",
        "max_value = f(mu)\n",
        "\n",
        "# Half maximum value\n",
        "half_max = max_value / 2\n",
        "\n",
        "# Function to find the roots\n",
        "def equation(x):\n",
        "    return f(x) - half_max\n",
        "\n",
        "# Initial guesses for the roots\n",
        "x_initial_guess_1 = mu - gamma\n",
        "x_initial_guess_2 = mu + gamma\n",
        "\n",
        "# Find the roots using fsolve\n",
        "x1 = fsolve(equation, x_initial_guess_1)[0]\n",
        "x2 = fsolve(equation, x_initial_guess_2)[0]\n",
        "\n",
        "# Calculate FWHM\n",
        "fwhm = abs(x2 - x1)\n",
        "\n",
        "print(f\"FWHM: {fwhm}\")\n",
        "\n",
        "# Plot the function\n",
        "x = np.linspace(-10, 10, 200)\n",
        "y = [f(xx) for xx in x]\n",
        "plt.plot(x, y)\n",
        "plt.axhline(half_max, color='red', linestyle='--')\n",
        "plt.axvline(x1, color='red', linestyle='--')\n",
        "plt.axvline(x2, color='red', linestyle='--')\n",
        "plt.text(x1, half_max, f'{x1:.4f}', verticalalignment='bottom', horizontalalignment='right')\n",
        "plt.text(x2, half_max, f'{x2:.4f}', verticalalignment='bottom', horizontalalignment='left')\n",
        "plt.grid()\n",
        "plt.show()"
      ]
    },
    {
      "cell_type": "markdown",
      "metadata": {
        "id": "d876GeDpQ6wZ"
      },
      "source": [
        "5.2) Plot FWHM(y-axis) as a function of $\\gamma$(gamma) from $\\gamma=0.5\\ldots 3$. Make sure you have at least 30 points."
      ]
    },
    {
      "cell_type": "code",
      "execution_count": 28,
      "metadata": {
        "id": "mSEafYV8Q6wZ",
        "outputId": "17b2c8d4-041e-46dd-de84-6575580af9a6",
        "colab": {
          "base_uri": "https://localhost:8080/",
          "height": 430
        }
      },
      "outputs": [
        {
          "output_type": "display_data",
          "data": {
            "text/plain": [
              "<Figure size 640x480 with 1 Axes>"
            ],
            "image/png": "[encoded data removed]"
          },
          "metadata": {}
        }
      ],
      "source": [
        "def f(x, gamma, mu=2.345):\n",
        "    return gamma / ((x - mu)**2 + gamma**2)\n",
        "\n",
        "# Function to calculate FWHM for a given gamma\n",
        "def calculate_fwhm(gamma):\n",
        "    mu = 2.345\n",
        "    max_value = f(mu, gamma)\n",
        "    half_max = max_value / 2\n",
        "\n",
        "    def equation(x):\n",
        "        return f(x, gamma) - half_max\n",
        "\n",
        "    x1 = fsolve(equation, mu - gamma)[0]\n",
        "    x2 = fsolve(equation, mu + gamma)[0]\n",
        "\n",
        "    return abs(x2 - x1)\n",
        "\n",
        "# Generate gamma values\n",
        "gamma_values = np.linspace(0.5, 3, 30)\n",
        "fwhm_values = [calculate_fwhm(gamma) for gamma in gamma_values]\n",
        "\n",
        "# Plot FWHM vs. gamma\n",
        "plt.plot(gamma_values, fwhm_values, marker='o')\n",
        "plt.grid()\n",
        "plt.show()"
      ]
    },
    {
      "cell_type": "markdown",
      "metadata": {
        "collapsed": true,
        "id": "2HSyJuXgQ6wa"
      },
      "source": [
        "5.3) (Optional) Prove the relation you found in 5.2)"
      ]
    },
    {
      "cell_type": "code",
      "execution_count": null,
      "metadata": {
        "collapsed": true,
        "id": "_m6p2hZCQ6wa"
      },
      "outputs": [],
      "source": []
    }
  ],
  "metadata": {
    "kernelspec": {
      "display_name": "Python 3",
      "language": "python",
      "name": "python3"
    },
    "language_info": {
      "codemirror_mode": {
        "name": "ipython",
        "version": 3
      },
      "file_extension": ".py",
      "mimetype": "text/x-python",
      "name": "python",
      "nbconvert_exporter": "python",
      "pygments_lexer": "ipython3",
      "version": "3.11.9"
    },
    "toc": {
      "colors": {
        "hover_highlight": "#DAA520",
        "running_highlight": "#FF0000",
        "selected_highlight": "#FFD700"
      },
      "moveMenuLeft": true,
      "nav_menu": {
        "height": "30px",
        "width": "252px"
      },
      "navigate_menu": true,
      "number_sections": false,
      "sideBar": true,
      "threshold": 4,
      "toc_cell": false,
      "toc_section_display": "block",
      "toc_window_display": false
    },
    "colab": {
      "provenance": [],
      "include_colab_link": true
    }
  },
  "nbformat": 4,
  "nbformat_minor": 0
}